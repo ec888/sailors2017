{
 "cells": [
  {
   "cell_type": "code",
   "execution_count": 4,
   "metadata": {},
   "outputs": [
    {
     "name": "stdout",
     "output_type": "stream",
     "text": [
      "The autoreload extension is already loaded. To reload it, use:\n",
      "  %reload_ext autoreload\n"
     ]
    }
   ],
   "source": [
    "# Run this every time you open the spreadsheet\n",
    "%load_ext autoreload\n",
    "%autoreload 2\n",
    "from collections import Counter\n",
    "import lib\n",
    "import random"
   ]
  },
  {
   "cell_type": "markdown",
   "metadata": {},
   "source": [
    "## Optional Exercise: Add bigram capabilities to the classifier!\n",
    "\n",
    "So far our Naive Bayes classifier scores an Average F1 score of 66.9% on the test set.\n",
    "Let's see if we can improve on that by incorporating bigrams!\n"
   ]
  },
  {
   "cell_type": "code",
   "execution_count": 5,
   "metadata": {},
   "outputs": [
    {
     "name": "stdout",
     "output_type": "stream",
     "text": [
      "['__class__', '__delattr__', '__dict__', '__doc__', '__format__', '__getattribute__', '__getitem__', '__hash__', '__init__', '__module__', '__new__', '__reduce__', '__reduce_ex__', '__repr__', '__setattr__', '__sizeof__', '__str__', '__subclasshook__', '__unicode__', '__weakref__', '_bigramList', '_featureSet', 'category', 'idx', 'need_or_resource', 'orig', 'tokenList', 'tokenSet']\n",
      "==========\n",
      "['__add__', '__class__', '__contains__', '__delattr__', '__delitem__', '__delslice__', '__doc__', '__eq__', '__format__', '__ge__', '__getattribute__', '__getitem__', '__getslice__', '__gt__', '__hash__', '__iadd__', '__imul__', '__init__', '__iter__', '__le__', '__len__', '__lt__', '__mul__', '__ne__', '__new__', '__reduce__', '__reduce_ex__', '__repr__', '__reversed__', '__rmul__', '__setattr__', '__setitem__', '__setslice__', '__sizeof__', '__str__', '__subclasshook__', 'append', 'count', 'extend', 'index', 'insert', 'pop', 'remove', 'reverse', 'sort']\n",
      "==========\n",
      "[(u'huge', u'tree'), (u'anymore', u'structural'), (u'structural', u'damage')]\n",
      "Checking if bigrams are correct...\n",
      "Bigrams are correct.\n",
      "\n",
      "Energy\n",
      "Precision:  67.4418604651\n",
      "Recall:  72.5\n",
      "F1:  69.8795180723\n",
      "\n",
      "Food\n",
      "Precision:  85.8156028369\n",
      "Recall:  93.7984496124\n",
      "F1:  89.6296296296\n",
      "\n",
      "Medical\n",
      "Precision:  100.0\n",
      "Recall:  61.5384615385\n",
      "F1:  76.1904761905\n",
      "\n",
      "None\n",
      "Precision:  82.6666666667\n",
      "Recall:  78.4810126582\n",
      "F1:  80.5194805195\n",
      "\n",
      "Water\n",
      "Precision:  78.5714285714\n",
      "Recall:  55.0\n",
      "F1:  64.7058823529\n",
      "\n",
      "Average F1:  76.184997353\n"
     ]
    }
   ],
   "source": [
    "def add_bigrams(tweet):\n",
    "    # Currently, tweet has an attribute called tweet.tokenList which is a list of tokens.\n",
    "    # You want to add a new attribute to tweet called tweet.bigramList which is a list of bigrams.\n",
    "    # Each bigram should be a pair of strings. You can define the bigram like this: bigram = (token1, token2).\n",
    "    # In Python, this is called a tuple. You can read more about tuples here: https://www.programiz.com/python-programming/tuple\n",
    "\n",
    "    ##### YOUR CODE STARTS HERE #####\n",
    "    a = 1\n",
    "    tweet.bigramList = tweet._bigramList\n",
    "    \n",
    "    ##### YOUR CODE ENDS HERE #####\n",
    "\n",
    "\n",
    "\n",
    "\n",
    "tweets, test_tweets = lib.read_data()\n",
    "\n",
    "print dir(tweets[1])\n",
    "print \"==========\"\n",
    "print dir(tweets[1]._bigramList)\n",
    "print \"==========\"\n",
    "print tweets[1]._bigramList\n",
    "\n",
    "for tweet in tweets+test_tweets:\n",
    "    add_bigrams(tweet)\n",
    "print \"Checking if bigrams are correct...\"\n",
    "for tweet in tweets+test_tweets:\n",
    "    assert tweet._bigramList==tweet.bigramList, \"Error in your implementation of the bigram list!\"\n",
    "print \"Bigrams are correct.\\n\"\n",
    "\n",
    "\n",
    "\n",
    "prior_probs, token_probs = lib.learn_nb(tweets)\n",
    "predictions = [(tweet, lib.classify_nb(tweet, prior_probs, token_probs)) for tweet in test_tweets]\n",
    "lib.evaluate(predictions)\n",
    "\n",
    "#############\n",
    "#Frequency\n",
    "# unigram_probs = Counter()\n",
    "# for tweet in tweets+test_tweets:\n",
    "#     unigram_probs.update(tweet.tokenList)\n",
    "# for (word, count) in unigram_probs.most_common(n=100):\n",
    "#     print word #, \"%d\"%count"
   ]
  },
  {
   "cell_type": "markdown",
   "metadata": {},
   "source": [
    "## Re-run the classifier and get evaluation score\n",
    "\n",
    "This notebook uses our implementation of the Naive Bayes classifier, but it's very similar to what you implemented yesterday. If you're interested in the details, take a look at the `learn_nb` and `classify_nb` functions in `lib.py` in the `sailors2017` directory."
   ]
  },
  {
   "cell_type": "code",
   "execution_count": 3,
   "metadata": {},
   "outputs": [
    {
     "name": "stdout",
     "output_type": "stream",
     "text": [
      "=========== regular classifier ===========\n",
      "Energy\n",
      "Precision:  67.4418604651\n",
      "Recall:  72.5\n",
      "F1:  69.8795180723\n",
      "\n",
      "Food\n",
      "Precision:  85.8156028369\n",
      "Recall:  93.7984496124\n",
      "F1:  89.6296296296\n",
      "\n",
      "Medical\n",
      "Precision:  100.0\n",
      "Recall:  61.5384615385\n",
      "F1:  76.1904761905\n",
      "\n",
      "None\n",
      "Precision:  82.6666666667\n",
      "Recall:  78.4810126582\n",
      "F1:  80.5194805195\n",
      "\n",
      "Water\n",
      "Precision:  78.5714285714\n",
      "Recall:  55.0\n",
      "F1:  64.7058823529\n",
      "\n",
      "Average F1:  76.184997353\n",
      "=========== binary classifier ===========\n",
      "Energy\n",
      "Precision:  64.4444444444\n",
      "Recall:  72.5\n",
      "F1:  68.2352941176\n",
      "\n",
      "Food\n",
      "Precision:  90.0\n",
      "Recall:  90.6976744186\n",
      "F1:  90.3474903475\n",
      "\n",
      "Medical\n",
      "Precision:  60.0\n",
      "Recall:  69.2307692308\n",
      "F1:  64.2857142857\n",
      "\n",
      "None\n",
      "Precision:  84.0579710145\n",
      "Recall:  73.417721519\n",
      "F1:  78.3783783784\n",
      "\n",
      "Water\n",
      "Precision:  68.1818181818\n",
      "Recall:  75.0\n",
      "F1:  71.4285714286\n",
      "\n",
      "Average F1:  74.5350897116\n"
     ]
    }
   ],
   "source": [
    "\n",
    "\n",
    "tweets, test_tweets = lib.read_data()\n",
    "prior_probs, token_probs = lib.learn_nb(tweets)\n",
    "# print prior_probs\n",
    "print \"=========== regular classifier ===========\"\n",
    "predictions = [(tweet, lib.classify_nb(tweet, prior_probs, token_probs)) for tweet in test_tweets]\n",
    "lib.evaluate(predictions)\n",
    "print \"=========== binary classifier ===========\"\n",
    "predictions = [(tweet, lib.classify_nb_binary(tweet, prior_probs, token_probs)) for tweet in test_tweets]\n",
    "lib.evaluate(predictions)"
   ]
  },
  {
   "cell_type": "markdown",
   "metadata": {},
   "source": [
    "## Inspecting the Classifier\n",
    "\n",
    "After implementing and training a classifier, you often want to inspect what kind of things it has learned and how it is making predictions on individual examples. This can help you make sure that you implemented everything correctly and it might give you ideas on how to further improve the classifier.\n",
    "\n",
    "### Most discriminative words\n",
    "\n",
    "Let's first look again at the most discriminative words for each category, i.e. the words that maximize P(category|word), for each category."
   ]
  },
  {
   "cell_type": "code",
   "execution_count": 25,
   "metadata": {},
   "outputs": [
    {
     "name": "stdout",
     "output_type": "stream",
     "text": [
      "MOST DISCRIMINATIVE TOKENS: \n",
      "\n",
      "TOKEN                P(Energy|token)\n",
      "powers               0.9979\n",
      "dark                 0.9962\n",
      "sandysucks           0.9962\n",
      "class                0.9962\n",
      "*********************** 0.9916\n",
      "fort                 0.9916\n",
      "outage               0.9916\n",
      "boat                 0.9916\n",
      "restaurant           0.9916\n",
      "strips               0.9916\n",
      "\n",
      "TOKEN                P(Food|token)\n",
      "sandwiches           0.9995\n",
      "dog                  0.9994\n",
      "soup                 0.9993\n",
      "serve                0.9992\n",
      "rice                 0.9992\n",
      "bike                 0.9989\n",
      "pasta                0.9989\n",
      "bag                  0.9988\n",
      "meal                 0.9988\n",
      "volunteers           0.9988\n",
      "\n",
      "TOKEN                P(Medical|token)\n",
      "meds                 0.9995\n",
      "medicine             0.9987\n",
      "ointment             0.9987\n",
      "medications          0.9987\n",
      "prescription         0.9987\n",
      "ups                  0.9970\n",
      "patients             0.9970\n",
      "pharmacy             0.9970\n",
      "medication           0.9970\n",
      "painkillers          0.9970\n",
      "\n",
      "TOKEN                P(None|token)\n",
      "irene                0.9969\n",
      "..                   0.9962\n",
      "wow                  0.9961\n",
      ".i                   0.9961\n",
      "halloween            0.9961\n",
      "im                   0.9954\n",
      "ya                   0.9949\n",
      "feel                 0.9949\n",
      "coast                0.9931\n",
      "crazy                0.9931\n",
      "\n",
      "TOKEN                P(Water|token)\n",
      "gallon               0.9990\n",
      "jugs                 0.9984\n",
      "interest             0.9971\n",
      "pallets              0.9936\n",
      "flood                0.9936\n",
      "liter                0.9936\n",
      "feet                 0.9936\n",
      "spring               0.9936\n",
      "parks                0.9936\n",
      "water                0.9920\n",
      "\n"
     ]
    }
   ],
   "source": [
    "lib.most_discriminative(tweets, token_probs, prior_probs)"
   ]
  },
  {
   "cell_type": "markdown",
   "metadata": {},
   "source": [
    "These five lists show you which words are most predictive of the five categories. For example, the word _bottled_ is a very strong indicator that the tweet is about water or the word _canned_ is a very strong indicator that the tweet is about food.\n",
    "\n",
    "Many of you used several of these words in your rule-based classifiers in week 1. It's reassuring (and exciting!) to see that the Naive Bayes classifier learned that these words are good indicators of the categories as well.\n",
    "\n",
    "\n",
    "### Confusion matrix\n",
    "\n",
    "Another useful type of visualization is a so-called confusion matrix. A confusion matrix shows you for each true category _c_ how many of the tweets in _c_ were classified into the five different categories. (In this way it tells you which categories are \"confused\" for others by the classifier)."
   ]
  },
  {
   "cell_type": "code",
   "execution_count": 26,
   "metadata": {},
   "outputs": [
    {
     "data": {
      "text/html": [
       "<table border=\"1\" class=\"dataframe\">\n",
       "  <thead>\n",
       "    <tr style=\"text-align: right;\">\n",
       "      <th></th>\n",
       "      <th>Energy</th>\n",
       "      <th>Food</th>\n",
       "      <th>Medical</th>\n",
       "      <th>None</th>\n",
       "      <th>Water</th>\n",
       "    </tr>\n",
       "  </thead>\n",
       "  <tbody>\n",
       "    <tr>\n",
       "      <th>Energy</th>\n",
       "      <td>29</td>\n",
       "      <td>4</td>\n",
       "      <td>0</td>\n",
       "      <td>5</td>\n",
       "      <td>2</td>\n",
       "    </tr>\n",
       "    <tr>\n",
       "      <th>Food</th>\n",
       "      <td>1</td>\n",
       "      <td>117</td>\n",
       "      <td>4</td>\n",
       "      <td>5</td>\n",
       "      <td>2</td>\n",
       "    </tr>\n",
       "    <tr>\n",
       "      <th>Medical</th>\n",
       "      <td>2</td>\n",
       "      <td>1</td>\n",
       "      <td>9</td>\n",
       "      <td>1</td>\n",
       "      <td>0</td>\n",
       "    </tr>\n",
       "    <tr>\n",
       "      <th>None</th>\n",
       "      <td>12</td>\n",
       "      <td>4</td>\n",
       "      <td>2</td>\n",
       "      <td>58</td>\n",
       "      <td>3</td>\n",
       "    </tr>\n",
       "    <tr>\n",
       "      <th>Water</th>\n",
       "      <td>1</td>\n",
       "      <td>4</td>\n",
       "      <td>0</td>\n",
       "      <td>0</td>\n",
       "      <td>15</td>\n",
       "    </tr>\n",
       "  </tbody>\n",
       "</table>"
      ],
      "text/plain": [
       "<IPython.core.display.HTML object>"
      ]
     },
     "metadata": {},
     "output_type": "display_data"
    }
   ],
   "source": [
    "lib.show_confusion_matrix(predictions)"
   ]
  },
  {
   "cell_type": "markdown",
   "metadata": {},
   "source": [
    "In the matrix, the **rows** correspond to the **true category** and the **columns** correspond to the **predicted category**.\n",
    "\n",
    "For example, this matrix shows you that of all the 79 tweets in the category _None_, 13 were incorrectly classified as _Energy_, 3 as _Food_, and 1 as _Medical_. 62 of them were actually correctly classified as _None_.\n",
    "\n",
    "### Visualizing individual tweets\n",
    "\n",
    "It can also be really useful to visualize the probabilities of each token in an individual tweet. This can help you understand why a classifier made a correct or wrong prediction. We've implemented a visualization for you so that you can use to inspect how the classifier works on individual tweets."
   ]
  },
  {
   "cell_type": "code",
   "execution_count": 31,
   "metadata": {},
   "outputs": [
    {
     "name": "stdout",
     "output_type": "stream",
     "text": [
      "Non-perishables are needed at 23-80 28th st in astoria !\n"
     ]
    },
    {
     "data": {
      "text/html": [
       "\n",
       "    <div id=\"viz-overlay\" style=\"display:none;position:absolute;width:250px;height:110px;border: 1px solid #000; padding:8px;  background: #eee;\">\n",
       "\t<p>\n",
       "       <span style=\"color:orange;\">P(<span class=\"viz-token-placeholder\"></span> | food) = <span id=\"viz-p-food\"></span></span><br>\n",
       "\t   <span style=\"color:blue;\">P(<span class=\"viz-token-placeholder\"></span> | water) = <span id=\"viz-p-water\"></span><br>\n",
       "\t   <span style=\"color:green;\">P(<span class=\"viz-token-placeholder\"></span> | medical) = <span id=\"viz-p-medical\"></span><br>\n",
       "\t   <span style=\"color:red;\">P(<span class=\"viz-token-placeholder\"></span> | energy) = <span id=\"viz-p-energy\"></span><br>\n",
       "\t   <span style=\"color:gray;\">P(<span class=\"viz-token-placeholder\"></span> | none) = <span id=\"viz-p-none\"></span></p>\n",
       "    </p>\n",
       "    </div>\n",
       "\n",
       "    <div id=\"viz-tweet\" style=\"padding: 190px 0 0;\">\n",
       "    <span style=\"color: orange\" class=\"viz-token\" data-food=\"0.022727\" data-none=\"0.000000\" data-medical=\"0.000000\" data-energy=\"0.000000\" data-water=\"0.000000\">non-perishables</span> <span style=\"color: orange\" class=\"viz-token\" data-food=\"0.022727\" data-none=\"0.000000\" data-medical=\"0.000000\" data-energy=\"0.000000\" data-water=\"0.000000\">non-perishables</span> <span style=\"color: green\" class=\"viz-token\" data-food=\"0.098485\" data-none=\"0.003236\" data-medical=\"0.136364\" data-energy=\"0.043478\" data-water=\"0.039604\">needed</span> <span style=\"color: orange\" class=\"viz-token\" data-food=\"0.001894\" data-none=\"0.000000\" data-medical=\"0.000000\" data-energy=\"0.000000\" data-water=\"0.000000\">23-80</span> <span style=\"color: red\" class=\"viz-token\" data-food=\"0.020833\" data-none=\"0.000000\" data-medical=\"0.000000\" data-energy=\"0.050725\" data-water=\"0.000000\">st</span> <span style=\"color: red\" class=\"viz-token\" data-food=\"0.020833\" data-none=\"0.000000\" data-medical=\"0.000000\" data-energy=\"0.050725\" data-water=\"0.000000\">st</span> <span style=\"color: blue\" class=\"viz-token\" data-food=\"0.026515\" data-none=\"0.003236\" data-medical=\"0.000000\" data-energy=\"0.028986\" data-water=\"0.059406\">astoria</span> <span style=\"color: blue\" class=\"viz-token\" data-food=\"0.026515\" data-none=\"0.003236\" data-medical=\"0.000000\" data-energy=\"0.028986\" data-water=\"0.059406\">astoria</span> <p><strong>Predicted category: </strong> <span style=\"color: orange\"> Food</span><br><strong>True category: </strong> <span style=\"color: orange\"> Food</span></p>\n",
       "    </div>\n",
       "     <script type=\"text/javascript\">\n",
       "\t$(document).ready(function() {\n",
       "\t\t$(\"span.viz-token\").mouseover(function() {\n",
       "\t\t\t$(\"span.viz-token\").css({\"font-weight\": \"normal\"});\n",
       "\t\t\t$(this).css({\"font-weight\": \"bold\"});\n",
       "\t\t\t$(\"span.viz-token-placeholder\").text($(this).text());\n",
       "\t\t\t$(\"#viz-p-food\").text($(this).data(\"food\"));\n",
       "\t\t\t$(\"#viz-p-water\").text($(this).data(\"water\"));\n",
       "\t\t\t$(\"#viz-p-medical\").text($(this).data(\"medical\"));\n",
       "\t\t\t$(\"#viz-p-energy\").text($(this).data(\"energy\"));\n",
       "\t\t\t$(\"#viz-p-none\").text($(this).data(\"none\"));\n",
       "\t\t\t$(\"#viz-overlay\").show();\n",
       "\t\t\t$(\"#viz-overlay\").offset({left:$(this).offset().left-110+$(this).width()/2, top:$(this).offset().top - 140});\n",
       "\t\t});\n",
       "\t});\n",
       "    </script>\n",
       "\n",
       "    "
      ],
      "text/plain": [
       "<IPython.core.display.HTML object>"
      ]
     },
     "metadata": {},
     "output_type": "display_data"
    },
    {
     "data": {
      "text/plain": [
       "[('Non-perishables', 'NNS'),\n",
       " ('are', 'VBP'),\n",
       " ('needed', 'VBN'),\n",
       " ('at', 'IN'),\n",
       " ('23-80', 'JJ'),\n",
       " ('28th', 'CD'),\n",
       " ('st', 'NN'),\n",
       " ('in', 'IN'),\n",
       " ('astoria', 'NN'),\n",
       " ('!', '.')]"
      ]
     },
     "execution_count": 31,
     "metadata": {},
     "output_type": "execute_result"
    }
   ],
   "source": [
    "# The following code visualizes a random tweet from the test data. \n",
    "# Hover your mouse over the words!\n",
    "\n",
    "random_tweet = random.choice(test_tweets)\n",
    "print random_tweet.orig\n",
    "lib.visualize_tweet(random_tweet, prior_probs, token_probs)\n",
    "\n",
    "text = nltk.word_tokenize(random_tweet.orig)\n",
    "nltk.pos_tag(text)"
   ]
  },
  {
   "cell_type": "markdown",
   "metadata": {},
   "source": [
    "The color of each word tells you for which category $P(\\text{token} \\mid \\text{category})$ is the highest. When you move the mouse over a word, it shows you the actual values of $P(\\text{token} \\mid \\text{category})$ for each category that the classifier uses to make its predictions.\n",
    "\n",
    "You can also have the classifier make a prediction on your own tweets. Change the text in `my_tweet` below and run the cell below to see what the classifier would predict."
   ]
  },
  {
   "cell_type": "code",
   "execution_count": 37,
   "metadata": {},
   "outputs": [
    {
     "data": {
      "text/html": [
       "\n",
       "    <div id=\"viz-overlay\" style=\"display:none;position:absolute;width:250px;height:110px;border: 1px solid #000; padding:8px;  background: #eee;\">\n",
       "\t<p>\n",
       "       <span style=\"color:orange;\">P(<span class=\"viz-token-placeholder\"></span> | food) = <span id=\"viz-p-food\"></span></span><br>\n",
       "\t   <span style=\"color:blue;\">P(<span class=\"viz-token-placeholder\"></span> | water) = <span id=\"viz-p-water\"></span><br>\n",
       "\t   <span style=\"color:green;\">P(<span class=\"viz-token-placeholder\"></span> | medical) = <span id=\"viz-p-medical\"></span><br>\n",
       "\t   <span style=\"color:red;\">P(<span class=\"viz-token-placeholder\"></span> | energy) = <span id=\"viz-p-energy\"></span><br>\n",
       "\t   <span style=\"color:gray;\">P(<span class=\"viz-token-placeholder\"></span> | none) = <span id=\"viz-p-none\"></span></p>\n",
       "    </p>\n",
       "    </div>\n",
       "\n",
       "    <div id=\"viz-tweet\" style=\"padding: 190px 0 0;\">\n",
       "    <span style=\"color: orange\" class=\"viz-token\" data-food=\"1.263258\" data-none=\"0.478964\" data-medical=\"0.590909\" data-energy=\"0.934783\" data-water=\"0.871287\">i</span> <span style=\"color: orange\" class=\"viz-token\" data-food=\"1.263258\" data-none=\"0.478964\" data-medical=\"0.590909\" data-energy=\"0.934783\" data-water=\"0.871287\">i</span> <span style=\"color: gray\" class=\"viz-token\" data-food=\"0.000000\" data-none=\"0.000000\" data-medical=\"0.000000\" data-energy=\"0.000000\" data-water=\"0.000000\">urgently</span> <span style=\"color: blue\" class=\"viz-token\" data-food=\"0.001894\" data-none=\"0.003236\" data-medical=\"0.000000\" data-energy=\"0.000000\" data-water=\"0.207921\">bottled</span> <span style=\"color: gray\" class=\"viz-token\" data-food=\"0.000000\" data-none=\"0.000000\" data-medical=\"0.000000\" data-energy=\"0.000000\" data-water=\"0.000000\">hams</span> <span style=\"color: gray\" class=\"viz-token\" data-food=\"0.000000\" data-none=\"0.000000\" data-medical=\"0.000000\" data-energy=\"0.000000\" data-water=\"0.000000\">hams</span> <p><strong>Predicted category: </strong> <span style=\"color: blue\"> Water</span><br><strong>True category: </strong> <span style=\"color: black\"> ?</span></p>\n",
       "    </div>\n",
       "     <script type=\"text/javascript\">\n",
       "\t$(document).ready(function() {\n",
       "\t\t$(\"span.viz-token\").mouseover(function() {\n",
       "\t\t\t$(\"span.viz-token\").css({\"font-weight\": \"normal\"});\n",
       "\t\t\t$(this).css({\"font-weight\": \"bold\"});\n",
       "\t\t\t$(\"span.viz-token-placeholder\").text($(this).text());\n",
       "\t\t\t$(\"#viz-p-food\").text($(this).data(\"food\"));\n",
       "\t\t\t$(\"#viz-p-water\").text($(this).data(\"water\"));\n",
       "\t\t\t$(\"#viz-p-medical\").text($(this).data(\"medical\"));\n",
       "\t\t\t$(\"#viz-p-energy\").text($(this).data(\"energy\"));\n",
       "\t\t\t$(\"#viz-p-none\").text($(this).data(\"none\"));\n",
       "\t\t\t$(\"#viz-overlay\").show();\n",
       "\t\t\t$(\"#viz-overlay\").offset({left:$(this).offset().left-110+$(this).width()/2, top:$(this).offset().top - 140});\n",
       "\t\t});\n",
       "\t});\n",
       "    </script>\n",
       "\n",
       "    "
      ],
      "text/plain": [
       "<IPython.core.display.HTML object>"
      ]
     },
     "metadata": {},
     "output_type": "display_data"
    },
    {
     "data": {
      "text/plain": [
       "[('I', 'PRP'),\n",
       " ('urgently', 'RB'),\n",
       " ('need', 'VBP'),\n",
       " ('some', 'DT'),\n",
       " ('bottled', 'JJ'),\n",
       " ('hams', 'NNS'),\n",
       " ('.', '.')]"
      ]
     },
     "execution_count": 37,
     "metadata": {},
     "output_type": "execute_result"
    }
   ],
   "source": [
    "my_tweet = \"I urgently need some bottled hams.\"\n",
    "\n",
    "lib.visualize_tweet(lib.Tweet(my_tweet, \"?\", \"\"), prior_probs, token_probs)\n",
    "\n",
    "import nltk\n",
    "text = nltk.word_tokenize(my_tweet)\n",
    "nltk.pos_tag(text)"
   ]
  },
  {
   "cell_type": "markdown",
   "metadata": {},
   "source": [
    "## Error analysis: Figuring out remaining errors\n",
    "\n",
    "Often, one wants to know in which scenarios a classifier makes mistakes. This can be really useful when you want to improve your classifier.\n",
    "\n",
    "In this exercise, try to break the Naive Bayes classifier. Use the cell above and try to come up with a tweet which should be classified as _Food_ but which is assigned a different category. Once you find such a tweet, use the visualization to figure out why the classifier gets this example wrong.\n",
    "\n",
    "Repeat this exercise for all the other categories. Based on your observations, do you have any ideas on how to further improve the classifier?\n"
   ]
  },
  {
   "cell_type": "code",
   "execution_count": null,
   "metadata": {
    "collapsed": true
   },
   "outputs": [],
   "source": []
  }
 ],
 "metadata": {
  "anaconda-cloud": {},
  "kernelspec": {
   "display_name": "Python 2",
   "language": "python",
   "name": "python2"
  },
  "language_info": {
   "codemirror_mode": {
    "name": "ipython",
    "version": 2
   },
   "file_extension": ".py",
   "mimetype": "text/x-python",
   "name": "python",
   "nbconvert_exporter": "python",
   "pygments_lexer": "ipython2",
   "version": "2.7.13"
  }
 },
 "nbformat": 4,
 "nbformat_minor": 1
}
